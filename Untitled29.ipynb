{
  "nbformat": 4,
  "nbformat_minor": 0,
  "metadata": {
    "colab": {
      "provenance": [],
      "authorship_tag": "ABX9TyN/5HUoHIuz8Jq1HdQHqTBm",
      "include_colab_link": true
    },
    "kernelspec": {
      "name": "python3",
      "display_name": "Python 3"
    },
    "language_info": {
      "name": "python"
    }
  },
  "cells": [
    {
      "cell_type": "markdown",
      "metadata": {
        "id": "view-in-github",
        "colab_type": "text"
      },
      "source": [
        "<a href=\"https://colab.research.google.com/github/2303A52306/aiml-lab-exam/blob/main/Untitled29.ipynb\" target=\"_parent\"><img src=\"https://colab.research.google.com/assets/colab-badge.svg\" alt=\"Open In Colab\"/></a>"
      ]
    },
    {
      "cell_type": "code",
      "source": [
        "import pandas as pd\n",
        "d=pd.read_csv('/content/breast_cancer_survival (3).csv')\n",
        "print(d)\n",
        "d.dropna()\n",
        "print(d.dtypes)"
      ],
      "metadata": {
        "colab": {
          "base_uri": "https://localhost:8080/"
        },
        "id": "PQhx5Grr2-MI",
        "outputId": "d77fd29d-012a-4132-e5e3-3ce3b06decaa"
      },
      "execution_count": 3,
      "outputs": [
        {
          "output_type": "stream",
          "name": "stdout",
          "text": [
            "     Age  Gender  Protein1  Protein2  Protein3  Protein4 Tumour_Stage  \\\n",
            "0     42  FEMALE  0.952560   2.15000  0.007972 -0.048340           II   \n",
            "1     54  FEMALE  0.000000   1.38020 -0.498030 -0.507320           II   \n",
            "2     63  FEMALE -0.523030   1.76400 -0.370190  0.010815           II   \n",
            "3     78  FEMALE -0.876180   0.12943 -0.370380  0.132190            I   \n",
            "4     42  FEMALE  0.226110   1.74910 -0.543970 -0.390210           II   \n",
            "..   ...     ...       ...       ...       ...       ...          ...   \n",
            "329   59  FEMALE  0.024598   1.40050  0.024751  0.280320           II   \n",
            "330   41  FEMALE  0.100120  -0.46547  0.472370 -0.523870            I   \n",
            "331   54  FEMALE  0.753820   1.64250 -0.332850  0.857860           II   \n",
            "332   74  FEMALE  0.972510   1.42680 -0.366570 -0.107820           II   \n",
            "333   66  FEMALE  0.286380   1.39980  0.318830  0.836050           II   \n",
            "\n",
            "                          Histology ER status PR status HER2 status  \\\n",
            "0     Infiltrating Ductal Carcinoma  Positive  Positive    Negative   \n",
            "1     Infiltrating Ductal Carcinoma  Positive  Positive    Negative   \n",
            "2     Infiltrating Ductal Carcinoma  Positive  Positive    Negative   \n",
            "3     Infiltrating Ductal Carcinoma  Positive  Positive    Negative   \n",
            "4     Infiltrating Ductal Carcinoma  Positive  Positive    Positive   \n",
            "..                              ...       ...       ...         ...   \n",
            "329   Infiltrating Ductal Carcinoma  Positive  Positive    Positive   \n",
            "330   Infiltrating Ductal Carcinoma  Positive  Positive    Positive   \n",
            "331   Infiltrating Ductal Carcinoma  Positive  Positive    Negative   \n",
            "332  Infiltrating Lobular Carcinoma  Positive  Positive    Negative   \n",
            "333   Infiltrating Ductal Carcinoma  Positive  Positive    Negative   \n",
            "\n",
            "                    Surgery_type Date_of_Surgery Date_of_Last_Visit  \\\n",
            "0                          Other       20-May-18          26-Aug-18   \n",
            "1                          Other       26-Apr-18          25-Jan-19   \n",
            "2                     Lumpectomy       24-Aug-18          08-Apr-20   \n",
            "3                          Other       16-Nov-18          28-Jul-20   \n",
            "4                     Lumpectomy       12-Dec-18          05-Jan-19   \n",
            "..                           ...             ...                ...   \n",
            "329                   Lumpectomy       15-Jan-19          27-Mar-20   \n",
            "330  Modified Radical Mastectomy       25-Jul-18          23-Apr-19   \n",
            "331            Simple Mastectomy       26-Mar-19          11-Oct-19   \n",
            "332                   Lumpectomy       26-Nov-18          05-Dec-18   \n",
            "333  Modified Radical Mastectomy       04-Feb-19          10-Aug-19   \n",
            "\n",
            "    Patient_Status  \n",
            "0            Alive  \n",
            "1             Dead  \n",
            "2            Alive  \n",
            "3            Alive  \n",
            "4            Alive  \n",
            "..             ...  \n",
            "329          Alive  \n",
            "330          Alive  \n",
            "331           Dead  \n",
            "332          Alive  \n",
            "333           Dead  \n",
            "\n",
            "[334 rows x 15 columns]\n",
            "Age                     int64\n",
            "Gender                 object\n",
            "Protein1              float64\n",
            "Protein2              float64\n",
            "Protein3              float64\n",
            "Protein4              float64\n",
            "Tumour_Stage           object\n",
            "Histology              object\n",
            "ER status              object\n",
            "PR status              object\n",
            "HER2 status            object\n",
            "Surgery_type           object\n",
            "Date_of_Surgery        object\n",
            "Date_of_Last_Visit     object\n",
            "Patient_Status         object\n",
            "dtype: object\n"
          ]
        }
      ]
    },
    {
      "cell_type": "code",
      "source": [
        "d['Gender'] = d['Gender'].map({'FEMALE': 0, 'MALE': 1})\n",
        "d['Tumour_Stage'] = d['Tumour_Stage'].map({'I': 1, 'II': 2, 'III': 3})\n",
        "d['Histology'] = d['Histology'].factorize()[0]\n",
        "d['ER status'] = d['ER status'].map({'Positive': 1, 'Negative': 0})\n",
        "d['PR status'] = d['PR status'].map({'Positive': 1, 'Negative': 0})\n",
        "d['HER2 status'] = d['HER2 status'].map({'Positive': 1, 'Negative': 0})\n",
        "d['Surgery_type'] = d['Surgery_type'].factorize()[0]\n",
        "d['Patient_Status'] = d['Patient_Status'].map({'Alive': 1, 'Dead': 0})\n",
        "d['Date_of_Surgery']=d['Date_of_Surgery'].map({'20-May-18':0,'26-Apr-18':1,'24-Aug-18':2,'16-Nov-18':3,'12-Dec-18':4,'15-Jan-19':5,'25-Jul-18':6,'26-Mar-19':7,'26-Nov-18':8,'04-Feb-19':9})\n",
        "d['Date_of_Last_Visit']=d['Date_of_Last_Visit'].map({'26-Aug-18':0,'25-Jan-19':1,'08-Apr-20':2,'28-Jul-20':3,'05-Jan-19':4,'27-Mar-20':5,'23-Apr-19':6,'11-Oct-19':7,'05-Dec-18':8,'10-Aug-19':9})\n",
        "print(d)"
      ],
      "metadata": {
        "colab": {
          "base_uri": "https://localhost:8080/"
        },
        "id": "ZOFxlAHL3GHj",
        "outputId": "f546b3a5-57ed-4266-f26d-42b09ba8fd24"
      },
      "execution_count": 4,
      "outputs": [
        {
          "output_type": "stream",
          "name": "stdout",
          "text": [
            "     Age  Gender  Protein1  Protein2  Protein3  Protein4  Tumour_Stage  \\\n",
            "0     42       0  0.952560   2.15000  0.007972 -0.048340             2   \n",
            "1     54       0  0.000000   1.38020 -0.498030 -0.507320             2   \n",
            "2     63       0 -0.523030   1.76400 -0.370190  0.010815             2   \n",
            "3     78       0 -0.876180   0.12943 -0.370380  0.132190             1   \n",
            "4     42       0  0.226110   1.74910 -0.543970 -0.390210             2   \n",
            "..   ...     ...       ...       ...       ...       ...           ...   \n",
            "329   59       0  0.024598   1.40050  0.024751  0.280320             2   \n",
            "330   41       0  0.100120  -0.46547  0.472370 -0.523870             1   \n",
            "331   54       0  0.753820   1.64250 -0.332850  0.857860             2   \n",
            "332   74       0  0.972510   1.42680 -0.366570 -0.107820             2   \n",
            "333   66       0  0.286380   1.39980  0.318830  0.836050             2   \n",
            "\n",
            "     Histology  ER status  PR status  HER2 status  Surgery_type  \\\n",
            "0            0          1          1            0             0   \n",
            "1            0          1          1            0             0   \n",
            "2            0          1          1            0             1   \n",
            "3            0          1          1            0             0   \n",
            "4            0          1          1            1             1   \n",
            "..         ...        ...        ...          ...           ...   \n",
            "329          0          1          1            1             1   \n",
            "330          0          1          1            1             2   \n",
            "331          0          1          1            0             3   \n",
            "332          1          1          1            0             1   \n",
            "333          0          1          1            0             2   \n",
            "\n",
            "     Date_of_Surgery  Date_of_Last_Visit  Patient_Status  \n",
            "0                0.0                 0.0             1.0  \n",
            "1                1.0                 1.0             0.0  \n",
            "2                2.0                 2.0             1.0  \n",
            "3                3.0                 3.0             1.0  \n",
            "4                4.0                 4.0             1.0  \n",
            "..               ...                 ...             ...  \n",
            "329              5.0                 5.0             1.0  \n",
            "330              6.0                 6.0             1.0  \n",
            "331              7.0                 7.0             0.0  \n",
            "332              8.0                 8.0             1.0  \n",
            "333              9.0                 9.0             0.0  \n",
            "\n",
            "[334 rows x 15 columns]\n"
          ]
        }
      ]
    },
    {
      "cell_type": "code",
      "source": [
        "y=d['Patient_Status']\n",
        "print(y)\n",
        ""
      ],
      "metadata": {
        "colab": {
          "base_uri": "https://localhost:8080/"
        },
        "id": "1k36Rk9D3OV-",
        "outputId": "f461813a-1dce-4bc8-d214-e0a8799b522a"
      },
      "execution_count": 5,
      "outputs": [
        {
          "output_type": "stream",
          "name": "stdout",
          "text": [
            "0      1.0\n",
            "1      0.0\n",
            "2      1.0\n",
            "3      1.0\n",
            "4      1.0\n",
            "      ... \n",
            "329    1.0\n",
            "330    1.0\n",
            "331    0.0\n",
            "332    1.0\n",
            "333    0.0\n",
            "Name: Patient_Status, Length: 334, dtype: float64\n"
          ]
        }
      ]
    },
    {
      "cell_type": "code",
      "source": [
        "x=d.drop(['Patient_Status'],axis=1)\n",
        "print(x)"
      ],
      "metadata": {
        "colab": {
          "base_uri": "https://localhost:8080/"
        },
        "id": "SbQxhivi3Sgr",
        "outputId": "7b8b3f68-f498-4f01-9e69-c532b006ae58"
      },
      "execution_count": 6,
      "outputs": [
        {
          "output_type": "stream",
          "name": "stdout",
          "text": [
            "     Age  Gender  Protein1  Protein2  Protein3  Protein4  Tumour_Stage  \\\n",
            "0     42       0  0.952560   2.15000  0.007972 -0.048340             2   \n",
            "1     54       0  0.000000   1.38020 -0.498030 -0.507320             2   \n",
            "2     63       0 -0.523030   1.76400 -0.370190  0.010815             2   \n",
            "3     78       0 -0.876180   0.12943 -0.370380  0.132190             1   \n",
            "4     42       0  0.226110   1.74910 -0.543970 -0.390210             2   \n",
            "..   ...     ...       ...       ...       ...       ...           ...   \n",
            "329   59       0  0.024598   1.40050  0.024751  0.280320             2   \n",
            "330   41       0  0.100120  -0.46547  0.472370 -0.523870             1   \n",
            "331   54       0  0.753820   1.64250 -0.332850  0.857860             2   \n",
            "332   74       0  0.972510   1.42680 -0.366570 -0.107820             2   \n",
            "333   66       0  0.286380   1.39980  0.318830  0.836050             2   \n",
            "\n",
            "     Histology  ER status  PR status  HER2 status  Surgery_type  \\\n",
            "0            0          1          1            0             0   \n",
            "1            0          1          1            0             0   \n",
            "2            0          1          1            0             1   \n",
            "3            0          1          1            0             0   \n",
            "4            0          1          1            1             1   \n",
            "..         ...        ...        ...          ...           ...   \n",
            "329          0          1          1            1             1   \n",
            "330          0          1          1            1             2   \n",
            "331          0          1          1            0             3   \n",
            "332          1          1          1            0             1   \n",
            "333          0          1          1            0             2   \n",
            "\n",
            "     Date_of_Surgery  Date_of_Last_Visit  \n",
            "0                0.0                 0.0  \n",
            "1                1.0                 1.0  \n",
            "2                2.0                 2.0  \n",
            "3                3.0                 3.0  \n",
            "4                4.0                 4.0  \n",
            "..               ...                 ...  \n",
            "329              5.0                 5.0  \n",
            "330              6.0                 6.0  \n",
            "331              7.0                 7.0  \n",
            "332              8.0                 8.0  \n",
            "333              9.0                 9.0  \n",
            "\n",
            "[334 rows x 14 columns]\n"
          ]
        }
      ]
    },
    {
      "cell_type": "code",
      "source": [
        "summary = d.describe(percentiles=[.25, .5, .75, .90])\n",
        "print(summary)"
      ],
      "metadata": {
        "colab": {
          "base_uri": "https://localhost:8080/"
        },
        "id": "RSC_gCz93XWq",
        "outputId": "a4cbf34b-035b-455d-ed43-7bd9ea1e261b"
      },
      "execution_count": 7,
      "outputs": [
        {
          "output_type": "stream",
          "name": "stdout",
          "text": [
            "              Age      Gender    Protein1    Protein2    Protein3    Protein4  \\\n",
            "count  334.000000  334.000000  334.000000  334.000000  334.000000  334.000000   \n",
            "mean    58.886228    0.011976   -0.029991    0.946896   -0.090204    0.009819   \n",
            "std     12.961212    0.108941    0.563588    0.911637    0.585175    0.629055   \n",
            "min     29.000000    0.000000   -2.340900   -0.978730   -1.627400   -2.025500   \n",
            "25%     49.000000    0.000000   -0.358888    0.362173   -0.513748   -0.377090   \n",
            "50%     58.000000    0.000000    0.006129    0.992805   -0.173180    0.041768   \n",
            "75%     68.000000    0.000000    0.343598    1.627900    0.278353    0.425630   \n",
            "90%     77.700000    0.000000    0.656522    2.055690    0.682048    0.786222   \n",
            "max     90.000000    1.000000    1.593600    3.402200    2.193400    1.629900   \n",
            "\n",
            "       Tumour_Stage   Histology  ER status  PR status  HER2 status  \\\n",
            "count    334.000000  334.000000      334.0      334.0   334.000000   \n",
            "mean       2.050898    0.338323        1.0        1.0     0.086826   \n",
            "std        0.657904    0.544615        0.0        0.0     0.282003   \n",
            "min        1.000000    0.000000        1.0        1.0     0.000000   \n",
            "25%        2.000000    0.000000        1.0        1.0     0.000000   \n",
            "50%        2.000000    0.000000        1.0        1.0     0.000000   \n",
            "75%        2.000000    1.000000        1.0        1.0     0.000000   \n",
            "90%        3.000000    1.000000        1.0        1.0     0.000000   \n",
            "max        3.000000    2.000000        1.0        1.0     1.000000   \n",
            "\n",
            "       Surgery_type  Date_of_Surgery  Date_of_Last_Visit  Patient_Status  \n",
            "count    334.000000        28.000000           12.000000      321.000000  \n",
            "mean       1.374251         5.000000            4.583333        0.794393  \n",
            "std        1.126021         2.905933            2.778434        0.404776  \n",
            "min        0.000000         0.000000            0.000000        0.000000  \n",
            "25%        0.000000         3.000000            2.750000        1.000000  \n",
            "50%        1.000000         5.000000            4.500000        1.000000  \n",
            "75%        2.000000         8.000000            6.250000        1.000000  \n",
            "90%        3.000000         8.300000            7.900000        1.000000  \n",
            "max        3.000000         9.000000            9.000000        1.000000  \n"
          ]
        }
      ]
    },
    {
      "cell_type": "code",
      "source": [
        "features=d.columns\n",
        "print(features)\n"
      ],
      "metadata": {
        "colab": {
          "base_uri": "https://localhost:8080/"
        },
        "id": "YhYLODwt3gTR",
        "outputId": "438cd551-7bae-4b3a-cbe9-38b93091522b"
      },
      "execution_count": 8,
      "outputs": [
        {
          "output_type": "stream",
          "name": "stdout",
          "text": [
            "Index(['Age', 'Gender', 'Protein1', 'Protein2', 'Protein3', 'Protein4',\n",
            "       'Tumour_Stage', 'Histology', 'ER status', 'PR status', 'HER2 status',\n",
            "       'Surgery_type', 'Date_of_Surgery', 'Date_of_Last_Visit',\n",
            "       'Patient_Status'],\n",
            "      dtype='object')\n"
          ]
        }
      ]
    },
    {
      "cell_type": "code",
      "source": [
        "import numpy as np\n",
        "from sklearn.model_selection import train_test_split\n",
        "from sklearn.linear_model import LogisticRegression\n",
        "from sklearn import datasets\n",
        "from sklearn.metrics import accuracy_score, confusion_matrix, classification_report"
      ],
      "metadata": {
        "id": "19AFUlZo3oFX"
      },
      "execution_count": 12,
      "outputs": []
    },
    {
      "cell_type": "code",
      "source": [
        "iris = datasets.load_iris()\n",
        "X = iris.data\n",
        "y = (iris.target == 2).astype(int)\n",
        "X_train, X_test, y_train, y_test = train_test_split(X, y, test_size=0.3, random_state=42)\n",
        "model = LogisticRegression()\n",
        "model.fit(X_train, y_train)\n",
        "y_pred = model.predict(X_test)\n",
        "accuracy = accuracy_score(y_test, y_pred)\n",
        "conf_matrix = confusion_matrix(y_test, y_pred)\n",
        "class_report = classification_report(y_test, y_pred)\n",
        "\n"
      ],
      "metadata": {
        "id": "5RMo1tne4Ii5"
      },
      "execution_count": 13,
      "outputs": []
    },
    {
      "cell_type": "code",
      "source": [
        "print(f'Accuracy: {accuracy}')\n",
        "print('Confusion Matrix:')\n",
        "print(conf_matrix)\n",
        "print('Classification Report:')\n",
        "print(class_report)\n",
        "new_data = np.array([[5.1, 3.5, 1.4, 0.2], [6.7, 3.0, 5.2, 2.3]])\n",
        "predictions = model.predict(new_data)\n",
        "print(f'Predictions for new data: {predictions}')"
      ],
      "metadata": {
        "colab": {
          "base_uri": "https://localhost:8080/"
        },
        "id": "1KjWkR2w4kHG",
        "outputId": "c4ba3524-b3e6-4c2a-8962-78f663fcedaa"
      },
      "execution_count": 14,
      "outputs": [
        {
          "output_type": "stream",
          "name": "stdout",
          "text": [
            "Accuracy: 1.0\n",
            "Confusion Matrix:\n",
            "[[32  0]\n",
            " [ 0 13]]\n",
            "Classification Report:\n",
            "              precision    recall  f1-score   support\n",
            "\n",
            "           0       1.00      1.00      1.00        32\n",
            "           1       1.00      1.00      1.00        13\n",
            "\n",
            "    accuracy                           1.00        45\n",
            "   macro avg       1.00      1.00      1.00        45\n",
            "weighted avg       1.00      1.00      1.00        45\n",
            "\n",
            "Predictions for new data: [0 1]\n"
          ]
        }
      ]
    }
  ]
}